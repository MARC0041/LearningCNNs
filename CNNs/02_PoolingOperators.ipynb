{
 "cells": [
  {
   "cell_type": "markdown",
   "metadata": {},
   "source": [
    "# Pooling operators\n",
    "\n",
    "Pooling is often used for downsampling\n",
    "i.e. 224x224 image >Downsampling>  112x112\n",
    "\n",
    "- 64 layers of image with 224 Height, and 224 width has dimensions 224 x 224 x 64\n",
    "- Pooling this > 112 x 112 x 64\n",
    "\n",
    "Why do we want to lower the spatial dimensions?\n",
    "1. Make computation more efficient\n",
    "2. Smaller feature maps are easier to deal with\n",
    "3. Make the learning invariant to translations. \n",
    "    -  neural network becomes less sensitive to the exact positions of these local features within the receptive field\n"
   ]
  },
  {
   "cell_type": "code",
   "execution_count": null,
   "metadata": {},
   "outputs": [],
   "source": []
  }
 ],
 "metadata": {
  "language_info": {
   "name": "python"
  },
  "orig_nbformat": 4
 },
 "nbformat": 4,
 "nbformat_minor": 2
}
