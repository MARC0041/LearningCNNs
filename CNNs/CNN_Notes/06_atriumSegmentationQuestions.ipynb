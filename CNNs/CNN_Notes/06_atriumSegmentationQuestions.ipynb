{
 "cells": [
  {
   "cell_type": "code",
   "execution_count": null,
   "metadata": {},
   "outputs": [],
   "source": [
    "%matplotlib notebook\n",
    "from pathlib import Path\n",
    "import nibabel as nib\n",
    "import numpy as np\n",
    "import matplotlib.pyplot as plt\n",
    "from tqdm.notebook import tqdm"
   ]
  },
  {
   "cell_type": "code",
   "execution_count": null,
   "metadata": {},
   "outputs": [],
   "source": [
    "root = Path(\"/path/to/Task02_Heart/imagesTr/\")\n",
    "label = Path(\"/path/to/Task02_Heart/labelsTr/\")"
   ]
  },
  {
   "cell_type": "code",
   "execution_count": null,
   "metadata": {},
   "outputs": [],
   "source": [
    "def change_img_to_label_path(path):\n",
    "    \"\"\"\n",
    "    Replaces imagesTr with labelsTr\n",
    "    \"\"\"\n",
    "    parts = list(path.parts)  # get all directories within the path\n",
    "    parts[parts.index(\"imagesTr\")] = \"labelsTr\"  # Replace imagesTr with labelsTr\n",
    "    return Path(*parts)  # Combine list back into a Path object"
   ]
  },
  {
   "cell_type": "markdown",
   "metadata": {},
   "source": [
    "Question: \n",
    "What does `Path(*parts)` do?"
   ]
  },
  {
   "cell_type": "code",
   "execution_count": null,
   "metadata": {},
   "outputs": [],
   "source": [
    "sample_path = list(root.glob(\"la*\"))[0]  # Choose a subject\n",
    "sample_path_label = change_img_to_label_path(sample_path)\n",
    "print(sample_path, sample_path_label) # prints *.nii.gz files\n",
    "\n",
    "# load nifti and extract image data\n",
    "data = nib.load(sample_path)\n",
    "label = nib.load(sample_path_label)\n",
    "\n",
    "mri = data.get_fdata()\n",
    "mask = label.get_fdata().astype(np.uint8)  # Class labels should not be handled as float64\n",
    "print(nib.aff2axcodes(data.affine))"
   ]
  },
  {
   "cell_type": "code",
   "execution_count": null,
   "metadata": {},
   "outputs": [],
   "source": [
    "from celluloid import Camera\n",
    "from IPython.display import HTML"
   ]
  },
  {
   "cell_type": "code",
   "execution_count": null,
   "metadata": {},
   "outputs": [],
   "source": [
    "fig = plt.figure()\n",
    "camera = Camera(fig)  # Create the camera object from celluloid\n",
    "\n",
    "for i in range(mri.shape[2]):  # Sagital view\n",
    "    plt.imshow(mri[:,:,i], cmap=\"bone\")\n",
    "    mask_ = np.ma.masked_where(mask[:,:,i]==0, mask[:,:,i])\n",
    "    plt.imshow(mask_, alpha=0.5, cmap=\"autumn\")\n",
    "    # plt.axis(\"off\")\n",
    "    camera.snap()  # Store the current slice\n",
    "animation = camera.animate()  # Create the animation"
   ]
  },
  {
   "cell_type": "code",
   "execution_count": null,
   "metadata": {},
   "outputs": [],
   "source": [
    "HTML(animation.to_html5_video())  # convert the animation to a video"
   ]
  },
  {
   "cell_type": "markdown",
   "metadata": {},
   "source": [
    "# Preprocessing"
   ]
  },
  {
   "cell_type": "code",
   "execution_count": null,
   "metadata": {},
   "outputs": [],
   "source": [
    "# Helper functions for normalization and standardization\n",
    "def normalize(full_volume):\n",
    "    \"\"\"\n",
    "    Z-Normalization of the whole subject\n",
    "    \"\"\"\n",
    "    mu = full_volume.mean()\n",
    "    std = np.std(full_volume)\n",
    "    normalized = (full_volume - mu) / std\n",
    "    return normalized\n",
    "\n",
    "def standardize(normalized_data):\n",
    "    \"\"\"\n",
    "    Standardize the normalized data into the 0-1 range\n",
    "    \"\"\"\n",
    "    standardized_data = (normalized_data - normalized_data.min()) / (normalized_data.max() - normalized_data.min())\n",
    "    return standardized_data"
   ]
  },
  {
   "cell_type": "markdown",
   "metadata": {},
   "source": [
    "Now we can loop over the subjects and store the preprocessed files in the corresponding directories.\n",
    "To evaluate our model we use the last 4 subjects as validation set.\n",
    "\n",
    "We want to create a directory containing a numpy file for each slice of the MRI image and the associated label mask of each subject.\n",
    "E.g:\n",
    "* 0/data/0.npy\n",
    "* 0/masks/0.npy"
   ]
  },
  {
   "cell_type": "code",
   "execution_count": null,
   "metadata": {},
   "outputs": [],
   "source": [
    "all_files = list(root.glob(\"la*\"))  # Get all subjects\n",
    "print(\"all files len: \", len(all_files))\n",
    "\n",
    "save_root = Path(\"Preprocessed\")\n",
    "\n",
    "for counter, path_to_mri_data in enumerate(tqdm(all_files)):\n",
    "    \n",
    "    path_to_label = change_img_to_label_path(path_to_mri_data)\n",
    "    \n",
    "    mri = nib.load(path_to_mri_data)\n",
    "    assert nib.aff2axcodes(mri.affine) == (\"R\", \"A\", \"S\")    \n",
    "    mri_data = mri.get_fdata()\n",
    "    label_data = nib.load(path_to_label).get_fdata().astype(np.uint8)\n",
    "    \n",
    "    # Crop volume and label mask. Reduce 32 px from top and 32 px from bottom.\n",
    "    # Addtionally crop front and back with same size. Dont crop viewing axis\n",
    "    mri_data = mri_data[32:-32, 32:-32]\n",
    "    label_data = label_data[32:-32, 32:-32]\n",
    "    \n",
    "    # Normalize and standardize the images\n",
    "    normalized_mri_data = normalize(mri_data)\n",
    "    standardized_mri_data = standardize(normalized_mri_data)\n",
    "    \n",
    "    # Check if train or val data and create corresponding path\n",
    "    if counter < 17:\n",
    "        current_path = save_root/\"train\"/str(counter)\n",
    "    else:\n",
    "        current_path = save_root/\"val\"/str(counter)\n",
    "    \n",
    "    # Loop over the slices in the full volume and store the images and labels in the data/masks directory\n",
    "    for i in range(standardized_mri_data.shape[-1]):\n",
    "        slice = standardized_mri_data[:,:,i]\n",
    "        mask = label_data[:,:,i]\n",
    "        slice_path = current_path/\"data\"\n",
    "        mask_path = current_path/\"masks\"\n",
    "        slice_path.mkdir(parents=True, exist_ok=True)\n",
    "        mask_path.mkdir(parents=True, exist_ok=True)\n",
    "        \n",
    "        np.save(slice_path/str(i), slice)\n",
    "        np.save(mask_path/str(i), mask)"
   ]
  },
  {
   "cell_type": "markdown",
   "metadata": {},
   "source": [
    "# Validate preprocessed data"
   ]
  },
  {
   "cell_type": "code",
   "execution_count": null,
   "metadata": {},
   "outputs": [],
   "source": [
    "path = Path(\"Preprocessed/train/1/\")  # Select a subject\n",
    "# Choose a file and load slice + mask\n",
    "file = \"50.npy\"\n",
    "slice = np.load(path/\"data\"/file)\n",
    "mask = np.load(path/\"masks\"/file)\n",
    "\n",
    "# Plot everything\n",
    "plt.figure()\n",
    "plt.imshow(slice, cmap=\"bone\")\n",
    "mask_ = np.ma.masked_where(mask==0, mask)\n",
    "plt.imshow(mask_, cmap=\"autumn\")\n",
    "\n",
    "print(slice.min(), slice.max())"
   ]
  },
  {
   "cell_type": "markdown",
   "metadata": {},
   "source": []
  }
 ],
 "metadata": {
  "language_info": {
   "name": "python"
  },
  "orig_nbformat": 4
 },
 "nbformat": 4,
 "nbformat_minor": 2
}
